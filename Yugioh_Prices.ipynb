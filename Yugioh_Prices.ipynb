{
  "nbformat": 4,
  "nbformat_minor": 0,
  "metadata": {
    "colab": {
      "provenance": []
    },
    "kernelspec": {
      "name": "python3",
      "display_name": "Python 3"
    },
    "language_info": {
      "name": "python"
    }
  },
  "cells": [
    {
      "cell_type": "code",
      "execution_count": 10,
      "metadata": {
        "id": "WPU-EB95e3Xy"
      },
      "outputs": [],
      "source": [
        "import pandas as pd\n",
        "from time import sleep\n",
        "import requests\n",
        "from bs4 import BeautifulSoup\n",
        "import re"
      ]
    },
    {
      "cell_type": "code",
      "source": [
        "# Get list of sets we want to include in our dataset\n",
        "# set up only to fetch the sets released in the first nine months of 2022\n",
        "start_date = \"2021/12/31\"\n",
        "end_date = \"2022/10/01\"\n",
        "\n",
        "# parse the html content of the page \n",
        "set_releases_page = requests.get(\"https://www.db.yugioh-card.com/yugiohdb/card_list.action\")\n",
        "set_releases_page = BeautifulSoup(set_releases_page.content)"
      ],
      "metadata": {
        "id": "PmfknzLxe_Xc"
      },
      "execution_count": 2,
      "outputs": []
    },
    {
      "cell_type": "code",
      "source": [
        "# Based on exploring the page html, I see that the class \"pack\" refers to a set that has been released\n",
        "packs = set_releases_page.find_all(\"div\", class_=\"t_row\")"
      ],
      "metadata": {
        "id": "hl0CgUaJhjvq"
      },
      "execution_count": 3,
      "outputs": []
    },
    {
      "cell_type": "code",
      "source": [
        "def get_date(row):\n",
        "  #use regular expressions to pull the data out of the html\n",
        "  date_exp = '\\d{4}/\\d{2}/\\d{2}'\n",
        "  return re.findall(date_exp, row.find(\"div\", class_=\"time\").text)[0]\n",
        "\n",
        "def get_card_names(row):\n",
        "  base_url = \"https://www.db.yugioh-card.com\"\n",
        "  # the input tags are links to a list of each pack and the available cards in that set\n",
        "  # value contains the relative path to the base url\n",
        "  set_page = requests.get(base_url + row.find(\"input\")['value'])\n",
        "  set_page = BeautifulSoup(set_page.content)\n",
        "  # the cards \n",
        "  return [i.text for i in set_page.find_all(\"span\", class_=\"card_name\")]\n"
      ],
      "metadata": {
        "id": "txQ_MlAAmHrg"
      },
      "execution_count": 4,
      "outputs": []
    },
    {
      "cell_type": "code",
      "source": [
        "all_names = set()\n",
        "for card_set in packs:\n",
        "  #if the set was released outside of our range, don't scrape it\n",
        "  if get_date(card_set) > end_date:\n",
        "    continue\n",
        "  #the list is sorted so once we find one before our range, we can break the loop\n",
        "  if get_date(card_set) < start_date:\n",
        "    break\n",
        "  #we use a set for card_names because \n",
        "  for card in get_card_names(card_set):\n",
        "    all_names.add(card)"
      ],
      "metadata": {
        "id": "I9rYsg12mpLc"
      },
      "execution_count": 5,
      "outputs": []
    },
    {
      "cell_type": "code",
      "source": [],
      "metadata": {
        "id": "L6CZeT5O3X6f"
      },
      "execution_count": null,
      "outputs": []
    },
    {
      "cell_type": "code",
      "source": [
        "#  checkout how many cards we'll be looking at\n",
        "len(all_names)\n",
        "# now we want to get name, set code, rarity, price low, price avg"
      ],
      "metadata": {
        "colab": {
          "base_uri": "https://localhost:8080/"
        },
        "id": "yd7-qLmLx21s",
        "outputId": "5db4c6b3-1ea9-42ad-e60d-b7dc0644068d"
      },
      "execution_count": 7,
      "outputs": [
        {
          "output_type": "execute_result",
          "data": {
            "text/plain": [
              "1572"
            ]
          },
          "metadata": {},
          "execution_count": 7
        }
      ]
    },
    {
      "cell_type": "code",
      "source": [
        "def get_codes_and_rarities(price_page):\n",
        "  set_and_rarity = price_page.select(\".print-variant-header\")\n",
        "  s = []\n",
        "  r = []\n",
        "  for printing in set_and_rarity:\n",
        "    info = printing.text.split('--')[1]\n",
        "    s.append(info[1:5])\n",
        "    r.append(info[info.find(\"(\")+1:info.find(\")\")])\n",
        "  return(s, r)\n",
        "\n",
        "def get_min_avg_prices(price_page):\n",
        "  # there are two unneeded data tables at the beginning of each page\n",
        "  # additionally for each price table, we get a table explaining\n",
        "  # change over time which we also don't need\n",
        "  price_tables = price_page.find_all(\"table\", id=\"item_stats\")[2::2]\n",
        "  mins = []\n",
        "  avgs = []\n",
        "  for printing in price_tables:\n",
        "    vals = [float(i.text.strip(\"\\n\")[1:]) for i in printing.find_all(\"p\")]\n",
        "    vals.sort()\n",
        "    # the min price will be the lowest of the three prices listed\n",
        "    # the avg price will be the middle of the three prices listed\n",
        "    mins.append(vals[0])\n",
        "    avgs.append(vals[1])\n",
        "  return(mins, avgs)\n"
      ],
      "metadata": {
        "id": "UvjnYHl63zqp"
      },
      "execution_count": 9,
      "outputs": []
    },
    {
      "cell_type": "code",
      "source": [
        "result = pd.DataFrame(data={'name':[], 'code':[], 'rarity':[], 'min_price':[], 'avg_price':[]})\n",
        "\n",
        "price_base_url = \"https://yugiohprices.com/card_price?name=\"\n",
        "iteration = 0\n",
        "for name in all_names:\n",
        "  try:\n",
        "    iteration += 1\n",
        "    # keep ourselves updated on progress\n",
        "    if iteration % 50 == 0:\n",
        "      print(iteration)\n",
        "    # get our price page                                #spaces in names and a special character need replacement\n",
        "    page = BeautifulSoup(requests.get(f\"{price_base_url}{name.replace(' ', '+').replace('&','%26')}\").content)\n",
        "    #a,b,c,d and are simply buffers to hold the data implied by the function names until we append them to the dataframe\n",
        "    a,b = get_codes_and_rarities(page)\n",
        "    c,d = get_min_avg_prices(page)\n",
        "    result = result.append(pd.DataFrame(data={'name': [name]*len(a),'code':a, 'rarity':b, 'min_price':c, 'avg_price':d}))\n",
        "    # DOSing people isn't cool, make sure to add a time delay if you need to make a lot of requests!\n",
        "    sleep(1)\n",
        "  except:\n",
        "    #print out errors, just in case\n",
        "    print(name)"
      ],
      "metadata": {
        "colab": {
          "base_uri": "https://localhost:8080/"
        },
        "id": "w3PzUBhUESWG",
        "outputId": "1aaca39a-f586-4b09-cf96-1b5031846bdf"
      },
      "execution_count": 13,
      "outputs": [
        {
          "output_type": "stream",
          "name": "stdout",
          "text": [
            "Zero Gravity\n",
            "Fabled Ashenveil\n",
            "Hamon, Lord of Striking Thunder\n",
            "Spirit Message \"N\"\n",
            "50\n",
            "Aluber the Jester of Despia\n",
            "Champion's Vigilance\n",
            "The Legendary Fisherman II\n",
            "Keeper of Dragon Magic\n",
            "Red-Eyes Darkness Metal Dragon\n",
            "100\n",
            "Pre-Preparation of Rites\n",
            "Elemental HERO Avian\n",
            "D.D. Warrior Lady\n",
            "Michizure\n",
            "150\n",
            "Torrential Tribute\n",
            "Morphtronic Earfon\n",
            "Ebon High Magician\n",
            "Bashing Shield\n",
            "Senju of the Thousand Hands\n",
            "200\n",
            "Gadget Gamer\n",
            "Jack's Knight\n",
            "Ally of Justice Thunder Armor\n",
            "250\n",
            "Jowgen the Spiritualist\n",
            "Kunai with Chain\n",
            "Blue-Eyes White Dragon\n",
            "Reinforcement of the Army\n",
            "300\n",
            "Mask of Darkness\n",
            "350\n",
            "400\n",
            "Elemental HERO Burstinatrix\n",
            "Cyber Dragon\n",
            "Insect Imitation\n",
            "Book of Life\n",
            "Creature Swap\n",
            "Naturia Guardian\n",
            "Spirit Message \"L\"\n",
            "450\n",
            "Ghoti of the Deep Beyond\n",
            "Queen's Knight\n",
            "500\n",
            "Cost Down\n",
            "Anchamoufrite\n",
            "The Legendary Fisherman\n",
            "550\n",
            "Go! - D/D/D Divine Zero King Rage\n",
            "Kuriboh\n",
            "Big Koala\n",
            "Ancient Gear Golem\n",
            "600\n",
            "Winged Kuriboh\n",
            "Elemental HERO Stratos\n",
            "650\n",
            "700\n",
            "Breaker the Magical Warrior\n",
            "Mystical Elf - White Lightning\n",
            "750\n",
            "The Warrior Returning Alive\n",
            "Trishula, Dragon of the Ice Barrier\n",
            "Windstorm of Etaqua\n",
            "Ryu Senshi\n",
            "Ally of Justice Enemy Catcher\n",
            "Magical Hats\n",
            "Mimesis Elephant\n",
            "800\n",
            "Spirit Message \"I\"\n",
            "Levia-Dragon - Daedalus\n",
            "850\n",
            "Magnetic Field\n",
            "900\n",
            "Old Vindictive Magician\n",
            "Flamvell Grunika\n",
            "Dark Magic Curtain\n",
            "De-Fusion\n",
            "Newdoria\n",
            "950\n",
            "Naturia Hydrangea\n",
            "Dai-sojo of the Ice Barrier\n",
            "Naturia Stinkbug\n",
            "1000\n",
            "Blazing Inpachi\n",
            "Metaverse\n",
            "Apprentice Illusion Magician\n",
            "1050\n",
            "Dust Tornado\n",
            "Gearfried the Swordmaster\n",
            "Harpie Lady 1\n",
            "Doomcaliber Knight\n",
            "1100\n",
            "Dark Necrofear\n",
            "Giant Rat\n",
            "Dark Magician\n",
            "1150\n",
            "Negate Attack\n",
            "Elemental HERO Clayman\n",
            "Naturia Dragonfly\n",
            "Red-Eyes Black Dragon\n",
            "Buster Blader\n",
            "Blade Knight\n",
            "1200\n",
            "Destiny Board\n",
            "Ojama Delta Hurricane!!\n",
            "Djinn Disserere of Rituals\n",
            "1250\n",
            "Earth Chant\n",
            "Des Kangaroo\n",
            "Straight Flush\n",
            "Anti-Spell Fragrance\n",
            "A Hero Emerges\n",
            "1300\n",
            "Nobleman of Crossout\n",
            "Elemental HERO Wildheart\n",
            "1350\n",
            "The Masked Beast\n",
            "Magician's Circle\n",
            "1400\n",
            "Heroic Champion - Excalibur\n",
            "VWXYZ-Dragon Catapult Cannon\n",
            "1450\n",
            "Union Scramble\n",
            "Reckless Greed\n",
            "Ghost Reaper & Winter Cherries\n",
            "Fusion Gate\n",
            "1500\n",
            "Offerings to the Doomed\n",
            "1550\n",
            "D/D/D Flame King Genghis\n",
            "Mind Crush\n"
          ]
        }
      ]
    },
    {
      "cell_type": "code",
      "source": [
        "result.to_csv(\"yugioh-prices.csv\")"
      ],
      "metadata": {
        "id": "DqSKJBldVNUW"
      },
      "execution_count": 15,
      "outputs": []
    }
  ]
}